{
 "cells": [
  {
   "cell_type": "code",
   "execution_count": 1,
   "metadata": {},
   "outputs": [],
   "source": [
    "%matplotlib inline\n",
    "import json\n",
    "import time\n",
    "import cv2\n",
    "import matplotlib.pyplot as plt\n",
    "import numpy as np\n",
    "import os\n",
    "import logging\n",
    "from OpenMonkeyEval import *"
   ]
  },
  {
   "cell_type": "code",
   "execution_count": 2,
   "metadata": {},
   "outputs": [],
   "source": [
    "# Specify the annotation file path and prediction file path\n",
    "ann_file = 'E:/OpenMonkeyDataset/answer.json'\n",
    "sub_file = 'E:/OpenMonkeyDataset/submission.json'"
   ]
  },
  {
   "cell_type": "code",
   "execution_count": 3,
   "metadata": {},
   "outputs": [],
   "source": [
    "evals = OpenMonkeyEval(ann_file, sub_file)"
   ]
  },
  {
   "cell_type": "code",
   "execution_count": 4,
   "metadata": {},
   "outputs": [
    {
     "name": "stdout",
     "output_type": "stream",
     "text": [
      "Couldn't find the predictions for: {'Golden_snub-nosed_monkey/0000064.jpg'}\n",
      "There are 50 instances in the annotation file.\n",
      "There are 49 instances in the submission file.\n"
     ]
    }
   ],
   "source": [
    "# Count the valid predictions in the submission file.\n",
    "evals.LoadData()"
   ]
  },
  {
   "cell_type": "code",
   "execution_count": 5,
   "metadata": {},
   "outputs": [
    {
     "name": "stdout",
     "output_type": "stream",
     "text": [
      "                          precision    recall  f1-score   support\n",
      "\n",
      "         Barbary_macaque       0.33      1.00      0.50         1\n",
      "                  Bonobo       0.50      1.00      0.67         1\n",
      "               Orangutan       1.00      0.67      0.80         3\n",
      "           Chacma_baboon       0.50      1.00      0.67         1\n",
      "              Chimpanzee       0.50      1.00      0.67         1\n",
      "         Common_marmoset       0.00      0.00      0.00         2\n",
      "      Cotton-top_tamarin       0.00      0.00      0.00         1\n",
      "     Crab-eating_macaque       1.00      1.00      1.00         2\n",
      "                 Gorilla       1.00      0.67      0.80         3\n",
      "         Emperor_tamarin       1.00      0.40      0.57         5\n",
      "     Golden_lion_tamarin       1.00      0.67      0.80         3\n",
      "        Hamadryas_baboon       1.00      0.67      0.80         3\n",
      "        Japanese_macaque       0.50      1.00      0.67         1\n",
      "                  Gibbon       1.00      0.67      0.80         3\n",
      "     Lion-tailed_macaque       1.00      1.00      1.00         2\n",
      "                Mandrill       1.00      1.00      1.00         2\n",
      "            Olive_baboon       0.50      1.00      0.67         1\n",
      "        Proboscis_monkey       1.00      0.67      0.80         3\n",
      "          Rhesus_macaque       1.00      1.00      1.00         2\n",
      "                 Siamang       1.00      1.00      1.00         2\n",
      "           Vervet_monkey       0.50      1.00      0.67         1\n",
      "   Formosan_rock_macaque       1.00      1.00      1.00         2\n",
      "       Dusky_leaf_monkey       1.00      1.00      1.00         2\n",
      "Golden_snub-nosed_monkey       1.00      1.00      1.00         1\n",
      "         Tufted_capuchin       1.00      1.00      1.00         2\n",
      "\n",
      "                accuracy                           0.76        50\n",
      "               macro avg       0.77      0.82      0.75        50\n",
      "            weighted avg       0.87      0.76      0.78        50\n",
      "\n"
     ]
    }
   ],
   "source": [
    "# Generate the classification result report, including precision, recall, f1-score, and support for each class. \n",
    "# The reported averages include macro average (averaging the unweighted mean per label), weighted average (averaging the support-weighted mean per label).\n",
    "evals.ClassificationReport()"
   ]
  },
  {
   "cell_type": "code",
   "execution_count": 6,
   "metadata": {},
   "outputs": [
    {
     "data": {
      "image/png": "[encoded data removed]",
      "text/plain": [
       "<Figure size 648x648 with 2 Axes>"
      ]
     },
     "metadata": {
      "needs_background": "light"
     },
     "output_type": "display_data"
    }
   ],
   "source": [
    "# Display confusion matrix\n",
    "evals.ConfusionMatrix()"
   ]
  },
  {
   "cell_type": "code",
   "execution_count": null,
   "metadata": {},
   "outputs": [],
   "source": []
  },
  {
   "cell_type": "code",
   "execution_count": null,
   "metadata": {},
   "outputs": [],
   "source": []
  },
  {
   "cell_type": "code",
   "execution_count": null,
   "metadata": {},
   "outputs": [],
   "source": []
  },
  {
   "cell_type": "code",
   "execution_count": null,
   "metadata": {},
   "outputs": [],
   "source": []
  },
  {
   "cell_type": "code",
   "execution_count": null,
   "metadata": {},
   "outputs": [],
   "source": []
  }
 ],
 "metadata": {
  "kernelspec": {
   "display_name": "Python 3",
   "language": "python",
   "name": "python3"
  },
  "language_info": {
   "codemirror_mode": {
    "name": "ipython",
    "version": 3
   },
   "file_extension": ".py",
   "mimetype": "text/x-python",
   "name": "python",
   "nbconvert_exporter": "python",
   "pygments_lexer": "ipython3",
   "version": "3.7.6"
  }
 },
 "nbformat": 4,
 "nbformat_minor": 4
}
