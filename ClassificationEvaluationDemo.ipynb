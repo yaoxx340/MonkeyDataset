{
 "cells": [
  {
   "cell_type": "code",
   "execution_count": 53,
   "metadata": {},
   "outputs": [],
   "source": [
    "get_ipython().run_line_magic('matplotlib', 'inline')\n",
    "import json\n",
    "import time\n",
    "import cv2\n",
    "import matplotlib.pyplot as plt\n",
    "import numpy as np\n",
    "import copy\n",
    "import os\n",
    "import sys\n",
    "\n",
    "from time import time\n",
    "import logging\n",
    "from sklearn.metrics import classification_report\n",
    "from sklearn.metrics import confusion_matrix\n"
   ]
  },
  {
   "cell_type": "code",
   "execution_count": 30,
   "metadata": {},
   "outputs": [],
   "source": [
    "sp = ['Barbary_macaque', 'Bonobo', 'Orangutan', 'Chacma_baboon','Chimpanzee', 'Common_marmoset', 'Cotton-top_tamarin', 'Crab-eating_macaque', 'Gorilla','Emperor_tamarin','Golden_lion_tamarin','Hamadryas_baboon','Japanese_macaque', 'Gibbon','Lion-tailed_macaque','Mandrill','Olive_baboon','Proboscis_monkey','Rhesus_macaque','Siamang','Vervet_monkey','Formosan_rock_macaque','Dusky_leaf_monkey','Golden_snub-nosed_monkey','Tufted_capuchin']\n",
    "\n",
    "def _isArrayLike(obj):\n",
    "    return hasattr(obj, '__iter__') and hasattr(obj, '__len__')"
   ]
  },
  {
   "cell_type": "code",
   "execution_count": 43,
   "metadata": {},
   "outputs": [],
   "source": [
    "class OpenMonkeyEval:\n",
    "    def __init__(self, annotation_file=None, answer_file=None):\n",
    "        # load dataset\n",
    "        self.annotation,self.ann_specs,self.ann_files = dict(),[],[]\n",
    "        self.answer,self.answer_specs,self.answer_files = dict(),[],[]\n",
    "\n",
    "        self.annotation = annotation_file\n",
    "        self.answer = answer_file\n",
    "        if not annotation_file == None:\n",
    "            dataset = json.load(open(annotation_file, 'r'))\n",
    "            assert type(dataset)==dict, 'annotation file format {} not supported'.format(type(dataset))\n",
    "            self.annotation = dataset\n",
    "            if 'annotation' in self.annotation:\n",
    "                for i in range(len(self.annotation['annotation'])):\n",
    "                    self.ann_specs.append(self.annotation['annotation'][i]['species_id'])\n",
    "                    self.ann_files.append(self.annotation['annotation'][i]['file_name'])\n",
    "                \n",
    "        if not answer_file == None:\n",
    "            dataset = json.load(open(answer_file, 'r'))\n",
    "            assert type(dataset)==dict, 'answer file format {} not supported'.format(type(dataset))\n",
    "            self.answer = dataset\n",
    "            if 'annotation' in self.answer:\n",
    "                for i in range(len(self.answer['annotation'])):\n",
    "                    self.answer_specs.append(self.answer['annotation'][i]['species_id'])\n",
    "                    self.answer_files.append(self.answer['annotation'][i]['file_name'])\n"
   ]
  },
  {
   "cell_type": "code",
   "execution_count": 44,
   "metadata": {},
   "outputs": [],
   "source": [
    "anno_path = 'E:/OpenMonkeyDataset/answer.json'\n",
    "anns_path = 'E:/OpenMonkeyDataset/submission.json'"
   ]
  },
  {
   "cell_type": "code",
   "execution_count": 45,
   "metadata": {},
   "outputs": [],
   "source": [
    "compare = OpenMonkeyEval(anno_path,anns_path )"
   ]
  },
  {
   "cell_type": "code",
   "execution_count": 58,
   "metadata": {},
   "outputs": [],
   "source": [
    "y_anno = []\n",
    "y_answer = []\n",
    "for i in range(len(compare.ann_files)):\n",
    "    try:\n",
    "        idx = compare.answer_files.index(compare.ann_files[i])\n",
    "        y_anno.append(compare.ann_specs[i])\n",
    "        y_answer.append(compare.answer_specs[idx])\n",
    "    except:\n",
    "        y_anno.append(compare.ann_specs[i])\n",
    "        y_answer.append(0)"
   ]
  },
  {
   "cell_type": "code",
   "execution_count": 59,
   "metadata": {},
   "outputs": [
    {
     "data": {
      "text/plain": [
       "'                          precision    recall  f1-score   support\\n\\n         Barbary_macaque       0.33      1.00      0.50         1\\n                  Bonobo       0.50      1.00      0.67         1\\n               Orangutan       1.00      0.67      0.80         3\\n           Chacma_baboon       0.50      1.00      0.67         1\\n              Chimpanzee       0.50      1.00      0.67         1\\n         Common_marmoset       0.00      0.00      0.00         2\\n      Cotton-top_tamarin       0.00      0.00      0.00         1\\n     Crab-eating_macaque       1.00      1.00      1.00         2\\n                 Gorilla       1.00      0.67      0.80         3\\n         Emperor_tamarin       1.00      0.40      0.57         5\\n     Golden_lion_tamarin       1.00      0.67      0.80         3\\n        Hamadryas_baboon       1.00      0.67      0.80         3\\n        Japanese_macaque       0.50      1.00      0.67         1\\n                  Gibbon       1.00      0.67      0.80         3\\n     Lion-tailed_macaque       1.00      1.00      1.00         2\\n                Mandrill       1.00      1.00      1.00         2\\n            Olive_baboon       0.50      1.00      0.67         1\\n        Proboscis_monkey       1.00      0.67      0.80         3\\n          Rhesus_macaque       1.00      1.00      1.00         2\\n                 Siamang       1.00      1.00      1.00         2\\n           Vervet_monkey       0.50      1.00      0.67         1\\n   Formosan_rock_macaque       1.00      1.00      1.00         2\\n       Dusky_leaf_monkey       1.00      1.00      1.00         2\\nGolden_snub-nosed_monkey       1.00      1.00      1.00         1\\n         Tufted_capuchin       1.00      1.00      1.00         2\\n\\n                accuracy                           0.76        50\\n               macro avg       0.77      0.82      0.75        50\\n            weighted avg       0.87      0.76      0.78        50\\n'"
      ]
     },
     "execution_count": 59,
     "metadata": {},
     "output_type": "execute_result"
    }
   ],
   "source": [
    "classification_report(y_anno, y_answer, target_names=sp)"
   ]
  },
  {
   "cell_type": "code",
   "execution_count": 52,
   "metadata": {},
   "outputs": [],
   "source": [
    "sp = ['Barbary_macaque', 'Bonobo', 'Orangutan', 'Chacma_baboon','Chimpanzee', 'Common_marmoset', 'Cotton-top_tamarin', 'Crab-eating_macaque', 'Gorilla','Emperor_tamarin','Golden_lion_tamarin','Hamadryas_baboon','Japanese_macaque', 'Gibbon','Lion-tailed_macaque','Mandrill','Olive_baboon','Proboscis_monkey','Rhesus_macaque','Siamang','Vervet_monkey','Formosan_rock_macaque','Dusky_leaf_monkey','Golden_snub-nosed_monkey','Tufted_capuchin']"
   ]
  },
  {
   "cell_type": "code",
   "execution_count": 61,
   "metadata": {},
   "outputs": [
    {
     "data": {
      "text/plain": [
       "array([[1, 0, 0, 0, 0, 0, 0, 0, 0, 0, 0, 0, 0, 0, 0, 0, 0, 0, 0, 0, 0, 0,\n",
       "        0, 0, 0],\n",
       "       [0, 1, 0, 0, 0, 0, 0, 0, 0, 0, 0, 0, 0, 0, 0, 0, 0, 0, 0, 0, 0, 0,\n",
       "        0, 0, 0],\n",
       "       [0, 0, 2, 0, 0, 1, 0, 0, 0, 0, 0, 0, 0, 0, 0, 0, 0, 0, 0, 0, 0, 0,\n",
       "        0, 0, 0],\n",
       "       [0, 0, 0, 1, 0, 0, 0, 0, 0, 0, 0, 0, 0, 0, 0, 0, 0, 0, 0, 0, 0, 0,\n",
       "        0, 0, 0],\n",
       "       [0, 0, 0, 0, 1, 0, 0, 0, 0, 0, 0, 0, 0, 0, 0, 0, 0, 0, 0, 0, 0, 0,\n",
       "        0, 0, 0],\n",
       "       [2, 0, 0, 0, 0, 0, 0, 0, 0, 0, 0, 0, 0, 0, 0, 0, 0, 0, 0, 0, 0, 0,\n",
       "        0, 0, 0],\n",
       "       [0, 0, 0, 1, 0, 0, 0, 0, 0, 0, 0, 0, 0, 0, 0, 0, 0, 0, 0, 0, 0, 0,\n",
       "        0, 0, 0],\n",
       "       [0, 0, 0, 0, 0, 0, 0, 2, 0, 0, 0, 0, 0, 0, 0, 0, 0, 0, 0, 0, 0, 0,\n",
       "        0, 0, 0],\n",
       "       [0, 0, 0, 0, 1, 0, 0, 0, 2, 0, 0, 0, 0, 0, 0, 0, 0, 0, 0, 0, 0, 0,\n",
       "        0, 0, 0],\n",
       "       [0, 0, 0, 0, 0, 1, 1, 0, 0, 2, 0, 0, 1, 0, 0, 0, 0, 0, 0, 0, 0, 0,\n",
       "        0, 0, 0],\n",
       "       [0, 1, 0, 0, 0, 0, 0, 0, 0, 0, 2, 0, 0, 0, 0, 0, 0, 0, 0, 0, 0, 0,\n",
       "        0, 0, 0],\n",
       "       [0, 0, 0, 0, 0, 0, 1, 0, 0, 0, 0, 2, 0, 0, 0, 0, 0, 0, 0, 0, 0, 0,\n",
       "        0, 0, 0],\n",
       "       [0, 0, 0, 0, 0, 0, 0, 0, 0, 0, 0, 0, 1, 0, 0, 0, 0, 0, 0, 0, 0, 0,\n",
       "        0, 0, 0],\n",
       "       [0, 0, 0, 0, 0, 0, 0, 0, 0, 0, 0, 0, 0, 2, 0, 0, 1, 0, 0, 0, 0, 0,\n",
       "        0, 0, 0],\n",
       "       [0, 0, 0, 0, 0, 0, 0, 0, 0, 0, 0, 0, 0, 0, 2, 0, 0, 0, 0, 0, 0, 0,\n",
       "        0, 0, 0],\n",
       "       [0, 0, 0, 0, 0, 0, 0, 0, 0, 0, 0, 0, 0, 0, 0, 2, 0, 0, 0, 0, 0, 0,\n",
       "        0, 0, 0],\n",
       "       [0, 0, 0, 0, 0, 0, 0, 0, 0, 0, 0, 0, 0, 0, 0, 0, 1, 0, 0, 0, 0, 0,\n",
       "        0, 0, 0],\n",
       "       [0, 0, 0, 0, 0, 0, 0, 0, 0, 0, 0, 0, 0, 0, 0, 0, 0, 2, 0, 0, 1, 0,\n",
       "        0, 0, 0],\n",
       "       [0, 0, 0, 0, 0, 0, 0, 0, 0, 0, 0, 0, 0, 0, 0, 0, 0, 0, 2, 0, 0, 0,\n",
       "        0, 0, 0],\n",
       "       [0, 0, 0, 0, 0, 0, 0, 0, 0, 0, 0, 0, 0, 0, 0, 0, 0, 0, 0, 2, 0, 0,\n",
       "        0, 0, 0],\n",
       "       [0, 0, 0, 0, 0, 0, 0, 0, 0, 0, 0, 0, 0, 0, 0, 0, 0, 0, 0, 0, 1, 0,\n",
       "        0, 0, 0],\n",
       "       [0, 0, 0, 0, 0, 0, 0, 0, 0, 0, 0, 0, 0, 0, 0, 0, 0, 0, 0, 0, 0, 2,\n",
       "        0, 0, 0],\n",
       "       [0, 0, 0, 0, 0, 0, 0, 0, 0, 0, 0, 0, 0, 0, 0, 0, 0, 0, 0, 0, 0, 0,\n",
       "        2, 0, 0],\n",
       "       [0, 0, 0, 0, 0, 0, 0, 0, 0, 0, 0, 0, 0, 0, 0, 0, 0, 0, 0, 0, 0, 0,\n",
       "        0, 1, 0],\n",
       "       [0, 0, 0, 0, 0, 0, 0, 0, 0, 0, 0, 0, 0, 0, 0, 0, 0, 0, 0, 0, 0, 0,\n",
       "        0, 0, 2]], dtype=int64)"
      ]
     },
     "execution_count": 61,
     "metadata": {},
     "output_type": "execute_result"
    }
   ],
   "source": [
    "confusion_matrix(y_anno, y_answer, labels=range(25))"
   ]
  },
  {
   "cell_type": "code",
   "execution_count": null,
   "metadata": {},
   "outputs": [],
   "source": []
  },
  {
   "cell_type": "code",
   "execution_count": null,
   "metadata": {},
   "outputs": [],
   "source": []
  },
  {
   "cell_type": "code",
   "execution_count": null,
   "metadata": {},
   "outputs": [],
   "source": []
  },
  {
   "cell_type": "code",
   "execution_count": null,
   "metadata": {},
   "outputs": [],
   "source": []
  },
  {
   "cell_type": "code",
   "execution_count": null,
   "metadata": {},
   "outputs": [],
   "source": []
  },
  {
   "cell_type": "code",
   "execution_count": null,
   "metadata": {},
   "outputs": [],
   "source": []
  },
  {
   "cell_type": "code",
   "execution_count": null,
   "metadata": {},
   "outputs": [],
   "source": []
  },
  {
   "cell_type": "code",
   "execution_count": null,
   "metadata": {},
   "outputs": [],
   "source": []
  },
  {
   "cell_type": "code",
   "execution_count": null,
   "metadata": {},
   "outputs": [],
   "source": []
  }
 ],
 "metadata": {
  "kernelspec": {
   "display_name": "Python 3",
   "language": "python",
   "name": "python3"
  },
  "language_info": {
   "codemirror_mode": {
    "name": "ipython",
    "version": 3
   },
   "file_extension": ".py",
   "mimetype": "text/x-python",
   "name": "python",
   "nbconvert_exporter": "python",
   "pygments_lexer": "ipython3",
   "version": "3.7.6"
  }
 },
 "nbformat": 4,
 "nbformat_minor": 4
}
